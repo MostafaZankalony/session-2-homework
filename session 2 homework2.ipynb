{
 "cells": [
  {
   "cell_type": "code",
   "execution_count": 8,
   "id": "916542e7",
   "metadata": {},
   "outputs": [
    {
     "name": "stdout",
     "output_type": "stream",
     "text": [
      "practice makes perfect.\n",
      "children must be tought\n",
      " how to think\n",
      " not\n",
      " what to think\n",
      "\"\"\n",
      "2*3*4*5/10=\n",
      "12.0\n"
     ]
    }
   ],
   "source": [
    "#homework1\n",
    "print(\"practice\", \"makes perfect.\")\n",
    "print(\"children must be tought\\n how to think\\n not\\n what to think\")\n",
    "print(\"\\\"\\\"\")\n",
    "print('2*3*4*5/10=')\n",
    "print(2*3*4*5/10)"
   ]
  },
  {
   "cell_type": "code",
   "execution_count": 2,
   "id": "6fc8e51a",
   "metadata": {},
   "outputs": [
    {
     "name": "stdout",
     "output_type": "stream",
     "text": [
      "me\n",
      "me\n"
     ]
    }
   ],
   "source": [
    "#homework2\n",
    "print(\"me\")\n",
    "print('me')\n",
    "print('me\") #error"
   ]
  },
  {
   "cell_type": "code",
   "execution_count": 19,
   "id": "f27e331f",
   "metadata": {
    "scrolled": true
   },
   "outputs": [
    {
     "name": "stdout",
     "output_type": "stream",
     "text": [
      "\n",
      "*\n",
      "**\n",
      "***\n",
      "****\n",
      "*****\n"
     ]
    }
   ],
   "source": [
    "#homework3\n",
    "i=1\n",
    "j=0\n",
    "while i<7:\n",
    "    while j<i :\n",
    "        print (\"*\"*j)\n",
    "        j+=1\n",
    "    i+=1\n",
    "    "
   ]
  },
  {
   "cell_type": "code",
   "execution_count": 17,
   "id": "eb4932e0",
   "metadata": {},
   "outputs": [
    {
     "name": "stdout",
     "output_type": "stream",
     "text": [
      "\n",
      "\n",
      "\n",
      "\n",
      "*\n",
      "\n",
      "\n",
      "\n",
      "**\n",
      "*\n",
      "**\n",
      "\n",
      "\n",
      "***\n",
      "**\n",
      "*\n",
      "**\n",
      "***\n",
      "\n",
      "****\n",
      "***\n",
      "**\n",
      "*\n",
      "**\n",
      "***\n",
      "****\n",
      "*****\n",
      "****\n",
      "***\n",
      "**\n",
      "*\n",
      "**\n",
      "***\n",
      "****\n",
      "*****\n"
     ]
    }
   ],
   "source": [
    "#homework4\n"
   ]
  },
  {
   "cell_type": "code",
   "execution_count": null,
   "id": "65c60896",
   "metadata": {},
   "outputs": [],
   "source": [
    "#homework5"
   ]
  },
  {
   "cell_type": "code",
   "execution_count": 20,
   "id": "ebc1acdf",
   "metadata": {},
   "outputs": [
    {
     "name": "stdout",
     "output_type": "stream",
     "text": [
      "hi\n",
      "\n",
      "i am mahmoud\n",
      "18\n",
      "wonderfull day\n",
      "wonderfull day\n"
     ]
    }
   ],
   "source": [
    "#homework6\n",
    "print(\"hi\") #incorrect\n",
    "print() #correct\n",
    "print(\"i am mahmoud\") #incorrect\n",
    "print(3 * 6) #correct\n",
    "print(\"wonderfull day\" ) #incorrect\n",
    "print(\"wonderfull day\" ) #incorrect"
   ]
  },
  {
   "cell_type": "code",
   "execution_count": null,
   "id": "e18b2e39",
   "metadata": {},
   "outputs": [],
   "source": []
  }
 ],
 "metadata": {
  "kernelspec": {
   "display_name": "Python 3 (ipykernel)",
   "language": "python",
   "name": "python3"
  },
  "language_info": {
   "codemirror_mode": {
    "name": "ipython",
    "version": 3
   },
   "file_extension": ".py",
   "mimetype": "text/x-python",
   "name": "python",
   "nbconvert_exporter": "python",
   "pygments_lexer": "ipython3",
   "version": "3.9.12"
  }
 },
 "nbformat": 4,
 "nbformat_minor": 5
}
