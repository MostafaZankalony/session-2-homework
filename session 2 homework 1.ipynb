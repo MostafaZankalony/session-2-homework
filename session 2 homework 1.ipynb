{
 "cells": [
  {
   "cell_type": "code",
   "execution_count": 6,
   "id": "d384e05d",
   "metadata": {},
   "outputs": [
    {
     "name": "stdout",
     "output_type": "stream",
     "text": [
      "enter first number2\n",
      "enter second number3\n",
      "x + y = 5.0\n",
      "x - y = -1.0\n",
      "x * y = 6.0\n",
      "x / y = 0.6666666666666666\n"
     ]
    }
   ],
   "source": [
    "#homework1\n",
    "x,y=float(input(\"enter first number\")),float(input(\"enter second number\"))\n",
    "def summ(x,y):\n",
    "    return x + y\n",
    "def sub(x,y):\n",
    "    return x - y  \n",
    "def mul(x,y):\n",
    "    return x * y\n",
    "def div(x,y):\n",
    "    return x / y\n",
    "print (\"x + y =\" , summ(x,y))\n",
    "print (\"x - y =\" , sub(x,y))\n",
    "print (\"x * y =\" , mul(x,y))\n",
    "print (\"x / y =\" , div(x,y))"
   ]
  },
  {
   "cell_type": "code",
   "execution_count": null,
   "id": "27a45231",
   "metadata": {},
   "outputs": [],
   "source": []
  },
  {
   "cell_type": "code",
   "execution_count": null,
   "id": "ee1e3e55",
   "metadata": {},
   "outputs": [],
   "source": []
  },
  {
   "cell_type": "code",
   "execution_count": null,
   "id": "86dad04e",
   "metadata": {},
   "outputs": [],
   "source": []
  },
  {
   "cell_type": "code",
   "execution_count": 1,
   "id": "3f88236f",
   "metadata": {},
   "outputs": [
    {
     "name": "stdout",
     "output_type": "stream",
     "text": [
      "enter the first student name :mostafa\n",
      "enter the first student id :7539\n",
      "enter the first student grade :4\n",
      "enter the second student name :sarah\n",
      "enter the second student id :7849\n",
      "enter the second student grade :4\n",
      "mostafa(id=7539) got grade : 4 \n",
      " sarah(id=7849) got grade : 4 \n",
      " avarge math grade : 4.0\n"
     ]
    }
   ],
   "source": [
    "#homework2\n",
    "student_1_name=input(\"enter the first student name :\")\n",
    "student_1_id=int(input(\"enter the first student id :\"))\n",
    "student_1_grade=int(input(\"enter the first student grade :\"))\n",
    "student_2_name=input(\"enter the second student name :\")\n",
    "student_2_id=int(input(\"enter the second student id :\"))\n",
    "student_2_grade=int(input(\"enter the second student grade :\"))\n",
    "avr_grade= (student_1_grade + student_2_grade)/2\n",
    "print(\"{}(id={}) got grade : {} \\n {}(id={}) got grade : {} \\n avarge math grade : {}\".format(student_1_name,student_1_id,student_1_grade,student_2_name,student_2_id,student_2_grade,avr_grade))\n",
    "\n"
   ]
  },
  {
   "cell_type": "code",
   "execution_count": 4,
   "id": "997b8af4",
   "metadata": {},
   "outputs": [
    {
     "name": "stdout",
     "output_type": "stream",
     "text": [
      "1 2 3 4\n"
     ]
    },
    {
     "ename": "ValueError",
     "evalue": "invalid literal for int() with base 10: '1 2 3 4'",
     "output_type": "error",
     "traceback": [
      "\u001b[1;31m---------------------------------------------------------------------------\u001b[0m",
      "\u001b[1;31mValueError\u001b[0m                                Traceback (most recent call last)",
      "Input \u001b[1;32mIn [4]\u001b[0m, in \u001b[0;36m<cell line: 2>\u001b[1;34m()\u001b[0m\n\u001b[0;32m      1\u001b[0m \u001b[38;5;66;03m#homework3\u001b[39;00m\n\u001b[1;32m----> 2\u001b[0m num\u001b[38;5;241m=\u001b[39m\u001b[38;5;28;43mint\u001b[39;49m\u001b[43m(\u001b[49m\u001b[38;5;28;43minput\u001b[39;49m\u001b[43m(\u001b[49m\u001b[43m)\u001b[49m\u001b[43m)\u001b[49m\u001b[38;5;241m.\u001b[39msplit()\n\u001b[0;32m      3\u001b[0m sumofodd\u001b[38;5;241m=\u001b[39m\u001b[38;5;241m0\u001b[39m\n\u001b[0;32m      4\u001b[0m sumofeven\u001b[38;5;241m=\u001b[39m\u001b[38;5;241m0\u001b[39m\n",
      "\u001b[1;31mValueError\u001b[0m: invalid literal for int() with base 10: '1 2 3 4'"
     ]
    }
   ],
   "source": [
    "#homework3\n",
    "num=int(input()).split()\n",
    "sumofodd=0\n",
    "sumofeven=0\n",
    "for i in (0,len(num),2):\n",
    "    sumofodd+=num[i]\n",
    "for i in (1, len(num), 2):\n",
    "    sumofeven += num[i]\n",
    "print(\"sum of odd = {} and sum of even = {}\".format(sumofodd,sumofeven))"
   ]
  },
  {
   "cell_type": "code",
   "execution_count": 5,
   "id": "18a38db7",
   "metadata": {},
   "outputs": [
    {
     "name": "stdout",
     "output_type": "stream",
     "text": [
      "a\n",
      "b\n",
      "c\n",
      "abcabcabcabcabcabcabcabcabcabc\n"
     ]
    }
   ],
   "source": [
    "#homework4\n",
    "x,y,z=input(),input(),input()\n",
    "print((x + y + z)*10)"
   ]
  },
  {
   "cell_type": "code",
   "execution_count": null,
   "id": "6e615443",
   "metadata": {},
   "outputs": [],
   "source": []
  }
 ],
 "metadata": {
  "kernelspec": {
   "display_name": "Python 3 (ipykernel)",
   "language": "python",
   "name": "python3"
  },
  "language_info": {
   "codemirror_mode": {
    "name": "ipython",
    "version": 3
   },
   "file_extension": ".py",
   "mimetype": "text/x-python",
   "name": "python",
   "nbconvert_exporter": "python",
   "pygments_lexer": "ipython3",
   "version": "3.9.12"
  }
 },
 "nbformat": 4,
 "nbformat_minor": 5
}
